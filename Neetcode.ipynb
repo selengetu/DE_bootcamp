{
  "nbformat": 4,
  "nbformat_minor": 0,
  "metadata": {
    "colab": {
      "provenance": [],
      "authorship_tag": "ABX9TyMT0FkndNu2vzhZ7sjZU9kY",
      "include_colab_link": true
    },
    "kernelspec": {
      "name": "python3",
      "display_name": "Python 3"
    },
    "language_info": {
      "name": "python"
    }
  },
  "cells": [
    {
      "cell_type": "markdown",
      "metadata": {
        "id": "view-in-github",
        "colab_type": "text"
      },
      "source": [
        "<a href=\"https://colab.research.google.com/github/selengetu/DE_bootcamp/blob/main/Neetcode.ipynb\" target=\"_parent\"><img src=\"https://colab.research.google.com/assets/colab-badge.svg\" alt=\"Open In Colab\"/></a>"
      ]
    },
    {
      "cell_type": "code",
      "execution_count": null,
      "metadata": {
        "colab": {
          "base_uri": "https://localhost:8080/"
        },
        "id": "a1-RtPMnRgEO",
        "outputId": "e7796b96-db51-41b1-c9fc-324f006a2df8"
      },
      "outputs": [
        {
          "output_type": "stream",
          "name": "stdout",
          "text": [
            "Hello World\n"
          ]
        }
      ],
      "source": [
        "print('Hello World')"
      ]
    },
    {
      "cell_type": "code",
      "source": [
        "print(\"My favorite quote is \\\"To be or not to be\\\"\")"
      ],
      "metadata": {
        "colab": {
          "base_uri": "https://localhost:8080/"
        },
        "id": "AbJl6sQeR52l",
        "outputId": "a4707813-a772-4c45-88c3-5cf5d94acd8c"
      },
      "execution_count": null,
      "outputs": [
        {
          "output_type": "stream",
          "name": "stdout",
          "text": [
            "My favorite quote is \"To be or not to be\"\n"
          ]
        }
      ]
    },
    {
      "cell_type": "code",
      "source": [
        "print('My favorite quote is \"To be or not to be\"') #that's comment"
      ],
      "metadata": {
        "colab": {
          "base_uri": "https://localhost:8080/"
        },
        "id": "Al_O9hy2oqyU",
        "outputId": "85685f1e-39d0-4a5f-86bf-693a8602f49e"
      },
      "execution_count": null,
      "outputs": [
        {
          "output_type": "stream",
          "name": "stdout",
          "text": [
            "My favorite quote is \"To be or not to be\"\n"
          ]
        }
      ]
    },
    {
      "cell_type": "code",
      "source": [
        "var = 10\n",
        "print(type(var))\n",
        "\n",
        "var = 3.4\n",
        "print(type(var))\n",
        "var = int(var)\n",
        "print((var))\n",
        "\n",
        "\n",
        "var = True\n",
        "print(type(var))\n",
        "\n",
        "var = 'abs'\n",
        "print(type(var))\n",
        "\n",
        "var = ['a', 'v']\n",
        "print(type(var))"
      ],
      "metadata": {
        "id": "O5G8_-XFyerb",
        "colab": {
          "base_uri": "https://localhost:8080/"
        },
        "outputId": "7924b2a2-27bc-43e8-f8b8-6acf85b4c9ff"
      },
      "execution_count": 4,
      "outputs": [
        {
          "output_type": "stream",
          "name": "stdout",
          "text": [
            "<class 'int'>\n",
            "<class 'float'>\n",
            "3\n",
            "<class 'bool'>\n",
            "<class 'str'>\n",
            "<class 'list'>\n"
          ]
        }
      ]
    }
  ]
}